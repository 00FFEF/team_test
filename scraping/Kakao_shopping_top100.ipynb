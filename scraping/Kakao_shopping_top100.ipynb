{
 "cells": [
  {
   "cell_type": "code",
   "execution_count": 1,
   "id": "958d042d",
   "metadata": {},
   "outputs": [],
   "source": [
    "from selenium import webdriver\n",
    "import time"
   ]
  },
  {
   "cell_type": "code",
   "execution_count": 2,
   "id": "c40ff9c9",
   "metadata": {},
   "outputs": [
    {
     "name": "stdout",
     "output_type": "stream",
     "text": [
      " C 드라이브의 볼륨에는 이름이 없습니다.\n",
      " 볼륨 일련 번호: 7651-27D3\n",
      "\n",
      " C:\\Develops\\Team_Project\\scraping 디렉터리\n",
      "\n",
      "2021-07-19  오후 02:14        11,107,328 chromedriver.exe\n",
      "               1개 파일          11,107,328 바이트\n",
      "               0개 디렉터리  372,194,459,648 바이트 남음\n"
     ]
    }
   ],
   "source": [
    "!dir .\\chromedriver.exe"
   ]
  },
  {
   "cell_type": "code",
   "execution_count": 3,
   "id": "d6ea0854",
   "metadata": {},
   "outputs": [],
   "source": [
    "browser = webdriver.Chrome('./chromedriver.exe')"
   ]
  },
  {
   "cell_type": "code",
   "execution_count": 4,
   "id": "165e557a",
   "metadata": {},
   "outputs": [],
   "source": [
    "browser.maximize_window()"
   ]
  },
  {
   "cell_type": "code",
   "execution_count": 5,
   "id": "d34c749e",
   "metadata": {},
   "outputs": [],
   "source": [
    "browser.get('https://store.kakao.com/home/best')"
   ]
  },
  {
   "cell_type": "code",
   "execution_count": 6,
   "id": "5e8f4091",
   "metadata": {},
   "outputs": [],
   "source": [
    "prev_height = browser.execute_script(\"return document.body.scrollHeight\")\n",
    "\n",
    "while True:\n",
    "    browser.execute_script(\"window.scrollTo(0,document.body.scrollHeight)\")\n",
    "    \n",
    "    time.sleep(2)\n",
    "    \n",
    "    curr_height = browser.execute_script(\"return document.body.scrollHeight\")\n",
    "    \n",
    "    if(curr_height == prev_height):\n",
    "        break\n",
    "    else:\n",
    "        prev_height = browser.execute_script(\"return document.body.scrollHeight\")"
   ]
  },
  {
   "cell_type": "code",
   "execution_count": 7,
   "id": "c16aa25f",
   "metadata": {},
   "outputs": [],
   "source": [
    "html = browser.page_source"
   ]
  },
  {
   "cell_type": "code",
   "execution_count": 8,
   "id": "0d847024",
   "metadata": {},
   "outputs": [],
   "source": [
    "from bs4 import BeautifulSoup"
   ]
  },
  {
   "cell_type": "code",
   "execution_count": 9,
   "id": "dfd4483a",
   "metadata": {},
   "outputs": [],
   "source": [
    "soup = BeautifulSoup(html,'html.parser')"
   ]
  },
  {
   "cell_type": "code",
   "execution_count": 10,
   "id": "30a06d38",
   "metadata": {},
   "outputs": [],
   "source": [
    "contents = soup.select('li.item-container')\n",
    "# print(type(contents))\n",
    "# contents[0]"
   ]
  },
  {
   "cell_type": "code",
   "execution_count": 11,
   "id": "0ec3a643",
   "metadata": {},
   "outputs": [],
   "source": [
    "content = contents[0]\n",
    "# content"
   ]
  },
  {
   "cell_type": "code",
   "execution_count": 12,
   "id": "ec653054",
   "metadata": {},
   "outputs": [
    {
     "data": {
      "text/plain": [
       "<em class=\"rank_info rank_top ng-star-inserted\">1</em>"
      ]
     },
     "execution_count": 12,
     "metadata": {},
     "output_type": "execute_result"
    }
   ],
   "source": [
    "rank = content.select('div > em.rank_info')[0]\n",
    "rank"
   ]
  },
  {
   "cell_type": "code",
   "execution_count": 13,
   "id": "5b758ad1",
   "metadata": {},
   "outputs": [
    {
     "data": {
      "text/plain": [
       "<span class=\"product_name\"> 널 담은 뚱카롱 [널담카롱] 12구[8+4] 세트, [NEW] 비건 초코파이 예파이 8개입</span>"
      ]
     },
     "execution_count": 13,
     "metadata": {},
     "output_type": "execute_result"
    }
   ],
   "source": [
    "title = content.select('span.product_name')[0]\n",
    "title"
   ]
  },
  {
   "cell_type": "code",
   "execution_count": 14,
   "id": "bc8f7214",
   "metadata": {},
   "outputs": [
    {
     "name": "stdout",
     "output_type": "stream",
     "text": [
      "1 널 담은 뚱카롱 [널담카롱] 12구[8+4] 세트, [NEW] 비건 초코파이 예파이 8개입\n",
      "2 유가네 닭갈비 볶음밥 외 14종 인기상품 골라담기\n",
      "3 [룩옵틱스] 명품선글라스 최대96%할인! 펜디,질샌더 외 71종 중 택1\n",
      "4 해남 땅끝햇살 수 10kg (2020년 수확, 등급-상)\n",
      "5 안동에서 자란 포슬포슬 수미 햇감자 4.5kg 중\n",
      "6 위닉스뽀송 16L 제습기(DN2H160-IWK)\n",
      "7 여름신상 시원한소재 린넨/쉬폰 블라우스 모음\n",
      "8 앤드류앤코 라방튀르 EDT 향수 95ml\n",
      "9 [BRAND DAY] 프레시지 (선착순)골든라벨스테이크+머쉬룸크림스프 외 BEST 골라담기\n",
      "10 여름필수품 모기패치 넉넉한 수량 54매 108매 162매 구성 선택가능\n",
      "11 [슈네이처] 물빠짐 퀄팅 욕실화1+1 외 3종 /3개이상 구매시 사은품증정\n",
      "12 스마트에코 EU 200매 성인용/어린이용 국산 새부리형 일회용 마스크\n",
      "13 [조여정콜라겐]초저분자 라이필 콜라겐(1병+2주파우치2개 총 8주분)\n",
      "14 [동원] 동원참치 라이트/고추/참치콘 85g x 10캔\n",
      "15 이롬황성주 국산콩두유 190ml*24팩 선물세트 3종(고칼슘/검은콩/검은콩과17곡)외 4종\n",
      "16 헤어롤 기획전 여성 볼륨 집게핀 뿌리 집게롤\n",
      "17 [압도적 가격]국내생산 생리대의 자존심 보람C&H 순면이좋은날 3팩, 소프트앤퀵 4팩 구성\n",
      "18 [거시기장터] (쿠폰적용가 7,920) 김제 허정수농부의 오색 칵테일토마토 2kg\n",
      "19 [올젠] 2021년 S/S신상품 PK반팔티셔츠 6종 택1\n",
      "20 피죤 대용량 건조기 섬유유연제 시그니처 120매+스프레이200ml증정\n",
      "21 석관동떡볶이 로제떡볶이 출시기념 3+1 팩 최대 43%할인\n",
      "22 [귀염뽀짝 미니에디션] 바나나는 원래 하얗다 125ml 24팩 외 가공유 2종\n",
      "23 프링글스&켈로그 미니간식 모음\n",
      "24 정관장 테이크파이브 에너지음료2종 250mlX30캔-홍삼과 타우린2000mg\n",
      "25 요리의 한 끗!! 하인즈 케첩+마요+버거소스 3종 + 사은품 / 가정용 필수소스\n",
      "26 [헬로네이처 특가] 고기와 우거지 듬뿍! 얼큰 칼칼! 고래감자탕 2팩(2.2kg) 무료배송\n",
      "27 Dole 루비레드 자몽 중과/대과\n",
      "28 진짜! 애슐리 치킨 5종 택3개\n",
      "29 콜롬비아 아보카도 10과 1.4kg 내외 국내 최초 판매!\n",
      "30 롯데푸드 맛있는 청춘간식 키스틱 체다치즈 25gx40개 / 두세트 구매시 20개 추가증정\n",
      "31 톡템 규조토 다용도 받침 1+1세트\n",
      "32 [앤드지by지오지아] 콜라보 티셔츠 8종 1+1 / 반바지 5종 택 1\n",
      "33 컬럼비아 남,여 방수 트레킹 및 등산화 모음전 11종\n",
      "34 [디스이즈] 국산 흑산도 목포 홍어 500g 홍어애 국내산 삭힌홍어 회 무침 삼합\n",
      "35 [뉴트리원]정우성 트리플엑스127 3박스(3개월분) 종합비타민 멀티비타민 면역\n",
      "36 오랄비 신제품 칫솔 & 치실 프로모션\n",
      "37 일양약품 모기 기피제 50mL 3개 (모기퇴치제 몸에 뿌리는 모기약 진드기기피 약국)\n",
      "38 엠지엠씨 플루딕 가정용 진공 음식물쓰레기통 3L (단독 구성! 버드주걱+봉투걸이링 증정)\n",
      "39 (당일출고/무료배송) 국내배송 일리 네스프레소 호환캡슐 50캡슐 골라담기\n",
      "40 모던 위생 변기손잡이\n",
      "41 [겐지아] 스마트 바디 체크 체지방 체중계 JSK-20013\n",
      "42 하림 밥에 싸먹는 담백한 닭가슴살 햄! 43g 12봉\n",
      "43 [거시기장터] (쿠폰적용가 7,920) 팜조아 김제 파프리카(혼합) 1.5kg\n",
      "44 에이블루 커블체어 와이더 손연재의자\n",
      "45 강경 서해젓갈 선동 저염 무색 명란젓 파지 1kg 외10가지 젓갈모음 200년 전통 맛젓갈\n",
      "46 Apple 아이폰 SE 2세대 자급제 (용량, 색상 선택)\n",
      "47 [오모리] 묵은지로 유명한 오모리 김치찌개 250g x 5팩(1.25kg) 무료배송\n",
      "48 BBQ자메이카 통다리 170gx10팩+닭 가슴살 소세지 2팩 랜덤 증정\n",
      "49 Apple 아이패드 프로 11형 2세대 256G 외(2020년형)\n",
      "50 [블랙야크] 역시즌 여성 B모션네오벤치다운자켓2 (1BYPAW9522)\n",
      "51 천하일미 홍석천 이원일 떡갈비 4팩~20팩 총8장~40장 전통/매콤 혼합구성\n",
      "52 [허닭] 닭가슴살 BEST 18팩 44% 할인 (+전자렌지용기 증정)\n",
      "53 [자연맛남] 속이꽉찬 국내산 양파 5kg 10kg 크기별\n",
      "54 불리지 않고 바로 먹는 납작당면 5팩 / 감자면 넓적당면 훠궈면 떡볶이 찜닭 추가사리\n",
      "55 완도활전복 대 10마리 710g 산소포장 (E1410A)\n",
      "56 에어에이드 국산원단 컬러마스크(평면형) 50매 FAD승인 핑크 보라 아이보리 살색\n",
      "57 콜라겐 링클 아이크림40mlx4 (총4개)/주름개선 기능성\n",
      "58 남원명물맛집 춘원회관 메밀소바5인분세트/춘원생면1kg+냉소바육수5봉\n",
      "59 [오가닉디노] 깨끗한 공룡 주스 4종 24팩 알뜰형(100ml x 24팩)\n",
      "60 로아커 웨하스 미니스 30입 +클래식 175g(4종택1) +사은품 돗자리\n",
      "61 캠핑음식 닭꼬치 염통 모듬수제꼬치 12종\n",
      "62 브라운 아기물티슈 오리지널 플러스 80매 캡 10+10팩 외 모음\n",
      "63 [본사직영] 프로젝트엠 반팔티 9,900원 균일가! 기능성 쿨텐션 외 8종\n",
      "64 Dole 얼려먹는 주스 후룻팝 3박스 24개입 (오렌지, 피치, 파인애플 등) + 사은품\n",
      "65 상큼한 풋사과 아오리사과 1.5kg (11-13과)\n",
      "66 제주직송 손질 토막 은갈치 소갈치 10마리(1.6kg/30토막) 외 3종 택1\n",
      "67 벡셀알카라인 벌크형 건전지 AA AAA 20알\n",
      "68 [푸마] 노후크/노와이어 브라렛/브라세트(브라+팬티) 모음전 16종\n",
      "69 칼린 베스트 가방/잡화전 최대 86% 할인\n",
      "70 CJ 비비고 국탕찌개 골라담기 (사골곰탕/육개장/미역국/갈비탕 등)\n",
      "71 정성으로 우려낸 외할머니 갈비탕 600gX4팩 외6종\n",
      "72 플레르 규조토 비누 트레이 [4style]\n",
      "73 국내산 고등어 70-100g x 10+10팩 무료배송\n",
      "74 새부리형100매 KF94 마스크 국산원자재 FDA승인 여름용마스크\n",
      "75 [허닭] 닭가슴살1+1/곤약볶음밥/도시락 특가모음\n",
      "76 [LF핸드백삼총사] 닥스, 헤지스, 질스튜어트핸드백 가방&지갑 총 30종 중 택1\n",
      "77 [생활공작소] 뽑아쓰는 키친타올 & 팝업티슈\n",
      "78 까사니 프리미엄 조리도구 모음전 키친툴/양면도마/가위 외\n",
      "79 줄서서 먹는 곱창 맛집! 미식당 소곱창 160g 외 3종\n",
      "80 한 여름밤의 비어가든! 부산 5성 농심호텔 [숙박+비어가든+온천]\n",
      "81 [JM솔루션] 전 세계 20억장 판매신화! 베스트셀러 마스크팩 기획전 + 사은품 증정\n",
      "82 100% 국산 더 건강한 잡곡 모음전\n",
      "83 1+1 NEW K2 Safety 2X밴더 쿨토시+블루안트 2X밴더 손목형 쿨토시 외 17종\n",
      "84 Apple 애플워치 SE 40mm GPS 알루미늄 케이스 + 스포츠 밴드\n",
      "85 저칼로리 곤약젤리 (깔라만시/복숭아/망고/청포도) 실속 20팩\n",
      "86 [샐리/티뷰] *여름인기절정* 지금 매치하기 딱 좋아! 데일리/린넨/홈캉스룩\n",
      "87 [수페르가] 21SS 스니커즈 시즌오프 모음전\n",
      "88 [대한민국 대표 전통주] 복순도가 손 막걸리 3병\n",
      "89 초단기사용 풀박스 삼성 갤럭시S21 울트라 SM-G998N 5G 자급제 256G\n",
      "90 [본사공식]웰더마 진동클렌저 외 선크림/금은화토너/곰도치 폼클렌저/선스프레이 여름템 택1\n",
      "91 [더아이잗 뉴욕] 무스탕 6종 역시즌 상품전\n",
      "92 [고기고기! 캠핑의 필수템!] 테팔 플래티늄 그릴팬! 사각&원형\n",
      "93 [단독특가]36년전통장충동왕족발 편육200g+찰순대500g 외 2종(고기듬뿍 고기순대)\n",
      "94 [블랙홀] 싱크대 클리너 - 여름철 냄새, 벌레 차단을 한번에! (3개입/9개월)\n",
      "95 시루조아 발효숙성 촉촉 리얼 우유 설기 BIG SIZE 720g 전상품 개별포장 모음전\n",
      "96 \"든든한 한끼\" 크라제 비프&함박&데미그라스 스테이크 5종 / +데미그라스 스테이크 증정\n",
      "97 노바리빙 다용도 문걸이 선반 2단 3단 4단 5단\n",
      "98 [노와] 무선 진공 쌀통 24L NWA-604\n",
      "99 7/17~7/20 파인뷰 K30 Pro 홈CCTV 고화질 FHD\n",
      "100 [동원] 동원샘물 6개\n"
     ]
    }
   ],
   "source": [
    "shop = [] # or list()\n",
    "for content in contents:\n",
    "    rank = content.select('div > em.rank_info')[0]\n",
    "    title = content.select('span.product_name')[0]\n",
    "    print(rank.text.strip(),title.text.strip())\n",
    "    shop.append([rank.text.strip(),title.text.strip()])"
   ]
  },
  {
   "cell_type": "code",
   "execution_count": 15,
   "id": "1b26b530",
   "metadata": {},
   "outputs": [],
   "source": [
    "import pandas as pd"
   ]
  },
  {
   "cell_type": "code",
   "execution_count": 16,
   "id": "3640230a",
   "metadata": {},
   "outputs": [
    {
     "data": {
      "text/html": [
       "<div>\n",
       "<style scoped>\n",
       "    .dataframe tbody tr th:only-of-type {\n",
       "        vertical-align: middle;\n",
       "    }\n",
       "\n",
       "    .dataframe tbody tr th {\n",
       "        vertical-align: top;\n",
       "    }\n",
       "\n",
       "    .dataframe thead th {\n",
       "        text-align: right;\n",
       "    }\n",
       "</style>\n",
       "<table border=\"1\" class=\"dataframe\">\n",
       "  <thead>\n",
       "    <tr style=\"text-align: right;\">\n",
       "      <th></th>\n",
       "      <th>Rank</th>\n",
       "      <th>KaKao shopping</th>\n",
       "    </tr>\n",
       "  </thead>\n",
       "  <tbody>\n",
       "    <tr>\n",
       "      <th>0</th>\n",
       "      <td>1</td>\n",
       "      <td>널 담은 뚱카롱 [널담카롱] 12구[8+4] 세트, [NEW] 비건 초코파이 예파이...</td>\n",
       "    </tr>\n",
       "    <tr>\n",
       "      <th>1</th>\n",
       "      <td>2</td>\n",
       "      <td>유가네 닭갈비 볶음밥 외 14종 인기상품 골라담기</td>\n",
       "    </tr>\n",
       "    <tr>\n",
       "      <th>2</th>\n",
       "      <td>3</td>\n",
       "      <td>[룩옵틱스] 명품선글라스 최대96%할인! 펜디,질샌더 외 71종 중 택1</td>\n",
       "    </tr>\n",
       "    <tr>\n",
       "      <th>3</th>\n",
       "      <td>4</td>\n",
       "      <td>해남 땅끝햇살 수 10kg (2020년 수확, 등급-상)</td>\n",
       "    </tr>\n",
       "    <tr>\n",
       "      <th>4</th>\n",
       "      <td>5</td>\n",
       "      <td>안동에서 자란 포슬포슬 수미 햇감자 4.5kg 중</td>\n",
       "    </tr>\n",
       "    <tr>\n",
       "      <th>...</th>\n",
       "      <td>...</td>\n",
       "      <td>...</td>\n",
       "    </tr>\n",
       "    <tr>\n",
       "      <th>95</th>\n",
       "      <td>96</td>\n",
       "      <td>\"든든한 한끼\" 크라제 비프&amp;함박&amp;데미그라스 스테이크 5종 / +데미그라스 스테이크 증정</td>\n",
       "    </tr>\n",
       "    <tr>\n",
       "      <th>96</th>\n",
       "      <td>97</td>\n",
       "      <td>노바리빙 다용도 문걸이 선반 2단 3단 4단 5단</td>\n",
       "    </tr>\n",
       "    <tr>\n",
       "      <th>97</th>\n",
       "      <td>98</td>\n",
       "      <td>[노와] 무선 진공 쌀통 24L NWA-604</td>\n",
       "    </tr>\n",
       "    <tr>\n",
       "      <th>98</th>\n",
       "      <td>99</td>\n",
       "      <td>7/17~7/20 파인뷰 K30 Pro 홈CCTV 고화질 FHD</td>\n",
       "    </tr>\n",
       "    <tr>\n",
       "      <th>99</th>\n",
       "      <td>100</td>\n",
       "      <td>[동원] 동원샘물 6개</td>\n",
       "    </tr>\n",
       "  </tbody>\n",
       "</table>\n",
       "<p>100 rows × 2 columns</p>\n",
       "</div>"
      ],
      "text/plain": [
       "   Rank                                     KaKao shopping\n",
       "0     1  널 담은 뚱카롱 [널담카롱] 12구[8+4] 세트, [NEW] 비건 초코파이 예파이...\n",
       "1     2                        유가네 닭갈비 볶음밥 외 14종 인기상품 골라담기\n",
       "2     3           [룩옵틱스] 명품선글라스 최대96%할인! 펜디,질샌더 외 71종 중 택1\n",
       "3     4                    해남 땅끝햇살 수 10kg (2020년 수확, 등급-상)\n",
       "4     5                        안동에서 자란 포슬포슬 수미 햇감자 4.5kg 중\n",
       "..  ...                                                ...\n",
       "95   96  \"든든한 한끼\" 크라제 비프&함박&데미그라스 스테이크 5종 / +데미그라스 스테이크 증정\n",
       "96   97                        노바리빙 다용도 문걸이 선반 2단 3단 4단 5단\n",
       "97   98                          [노와] 무선 진공 쌀통 24L NWA-604\n",
       "98   99                7/17~7/20 파인뷰 K30 Pro 홈CCTV 고화질 FHD\n",
       "99  100                                       [동원] 동원샘물 6개\n",
       "\n",
       "[100 rows x 2 columns]"
      ]
     },
     "execution_count": 16,
     "metadata": {},
     "output_type": "execute_result"
    }
   ],
   "source": [
    "pd_data = pd.DataFrame(shop, columns=['Rank','KaKao shopping'])\n",
    "pd_data"
   ]
  },
  {
   "cell_type": "code",
   "execution_count": null,
   "id": "0126c97e",
   "metadata": {},
   "outputs": [],
   "source": []
  }
 ],
 "metadata": {
  "kernelspec": {
   "display_name": "Python 3",
   "language": "python",
   "name": "python3"
  },
  "language_info": {
   "codemirror_mode": {
    "name": "ipython",
    "version": 3
   },
   "file_extension": ".py",
   "mimetype": "text/x-python",
   "name": "python",
   "nbconvert_exporter": "python",
   "pygments_lexer": "ipython3",
   "version": "3.6.4"
  }
 },
 "nbformat": 4,
 "nbformat_minor": 5
}
