{
 "cells": [
  {
   "cell_type": "markdown",
   "id": "cf1d8427",
   "metadata": {},
   "source": [
    "### browser.get 에 있는 주소만 카테고리별로 ( 패션의류, 패션잡화, 화장품/미용.....) 으로 바꾸면 다른거 추출가능"
   ]
  },
  {
   "cell_type": "code",
   "execution_count": 1,
   "id": "168c9ce4",
   "metadata": {},
   "outputs": [],
   "source": [
    "from selenium import webdriver"
   ]
  },
  {
   "cell_type": "code",
   "execution_count": 2,
   "id": "e317ab64",
   "metadata": {},
   "outputs": [],
   "source": [
    "#!python -m pip install pandas"
   ]
  },
  {
   "cell_type": "code",
   "execution_count": 3,
   "id": "98b3dad8",
   "metadata": {},
   "outputs": [],
   "source": [
    "#!python -m pip install selenium"
   ]
  },
  {
   "cell_type": "code",
   "execution_count": 4,
   "id": "9a683de0",
   "metadata": {},
   "outputs": [],
   "source": [
    "# auto reload\n",
    "#%load_ext autoreload\n",
    "#%autoreload 2"
   ]
  },
  {
   "cell_type": "code",
   "execution_count": 5,
   "id": "6d398283",
   "metadata": {},
   "outputs": [
    {
     "name": "stdout",
     "output_type": "stream",
     "text": [
      " C 드라이브의 볼륨에는 이름이 없습니다.\n",
      " 볼륨 일련 번호: 7651-27D3\n",
      "\n",
      " C:\\Develops\\Team_Project\\scraping 디렉터리\n",
      "\n",
      "2021-07-19  오후 02:14        11,107,328 chromedriver.exe\n",
      "               1개 파일          11,107,328 바이트\n",
      "               0개 디렉터리  365,272,371,200 바이트 남음\n"
     ]
    }
   ],
   "source": [
    "!dir .\\chromedriver.exe"
   ]
  },
  {
   "cell_type": "code",
   "execution_count": 6,
   "id": "c4d823c1",
   "metadata": {},
   "outputs": [],
   "source": [
    "browser = webdriver.Chrome('./chromedriver.exe')"
   ]
  },
  {
   "cell_type": "code",
   "execution_count": 7,
   "id": "2a3666bf",
   "metadata": {},
   "outputs": [],
   "source": [
    "browser.get('https://search.shopping.naver.com/best100v2/detail.nhn?catId=50000006')"
   ]
  },
  {
   "cell_type": "code",
   "execution_count": 8,
   "id": "a6ced878",
   "metadata": {},
   "outputs": [],
   "source": [
    "html = browser.page_source\n",
    "#html"
   ]
  },
  {
   "cell_type": "code",
   "execution_count": 9,
   "id": "9e997895",
   "metadata": {},
   "outputs": [],
   "source": [
    "from bs4 import BeautifulSoup"
   ]
  },
  {
   "cell_type": "code",
   "execution_count": 10,
   "id": "694cf1f1",
   "metadata": {},
   "outputs": [],
   "source": [
    "soup = BeautifulSoup(html,'html.parser')"
   ]
  },
  {
   "cell_type": "code",
   "execution_count": 11,
   "id": "fd41d604",
   "metadata": {},
   "outputs": [],
   "source": [
    "contents = soup.select('li._itemSection')\n",
    "#print(type(contents))\n",
    "#contents[0]"
   ]
  },
  {
   "cell_type": "code",
   "execution_count": 12,
   "id": "c7b5399a",
   "metadata": {},
   "outputs": [],
   "source": [
    "content = contents[0]\n",
    "#content"
   ]
  },
  {
   "cell_type": "code",
   "execution_count": 13,
   "id": "efff7a81",
   "metadata": {},
   "outputs": [
    {
     "data": {
      "text/plain": [
       "<em class=\"num1\">1</em>"
      ]
     },
     "execution_count": 13,
     "metadata": {},
     "output_type": "execute_result"
    }
   ],
   "source": [
    "rank = content.select('div.best_rnk > em')[0]\n",
    "rank"
   ]
  },
  {
   "cell_type": "code",
   "execution_count": 14,
   "id": "464d0345",
   "metadata": {},
   "outputs": [
    {
     "data": {
      "text/plain": [
       "'1'"
      ]
     },
     "execution_count": 14,
     "metadata": {},
     "output_type": "execute_result"
    }
   ],
   "source": [
    "rank.text.strip()"
   ]
  },
  {
   "cell_type": "code",
   "execution_count": 15,
   "id": "2d1b4b2d",
   "metadata": {},
   "outputs": [
    {
     "data": {
      "text/plain": [
       "<p class=\"cont\">\n",
       "<a href=\"https://cr2.shopping.naver.com/adcr.nhn?x=vEzrwY6ABHnBL%2FS6ZpkaEv%2F%2F%2Fw%3D%3DsW7wRVoNfRIsTlIiX4bDFF1k3TiM4OdJr9l6dEyoY20jd8dqLrhNFSUa4e2t5H%2BArsoiH6UuLtyxCjtmWXJ6L5Ub6op1WM6pTk729zgmT10EoClis6CIU5d44IT7G7WpG4ZJ1yhgbIwyc0Vzw8hlsYMt31Fyt68lal37inYyponkqjgjWudOcde%2FjNwY9lsSn4uIwAz2wsy7Dt%2BkH1qHaoaD%2FK7ivYRW31CDLyZcLAoO0W1tZEACc86QFd5OT%2BJRejckNvZgGVJPIKj7DQ%2BFgqh3fIBMPZc5fkShT%2BAFLZ7RG6WxmL6JlLJQ15ICOAJLBKk7Ao9gd7wvou4Fc6OKtclKnb4fRB8Q4nCk71UKR2XrDZBko1ekK5JxAWwGApNlHzvz8bDzahoJooKRpuVkgfnELfemV4pgC3nH%2FP0mb0ZdlaLCMFj2vSprdZ3noqN2FXo9dZYoR7jXEEqRXPzwfznz3i884urt68CMzYouIG0KyiX7mGozDbfsSbE4h1JDlMs7XouDqQnj4%2Fv%2B4jCivevu93hZdD%2BEodPvZRenlPn8mesk1AWlEl3SABcULadAJ7qDtjwLfjRTIDlTd98%2Fc45tWS1sPhecfFh%2FgAGr0FqY%3D\" target=\"_blank\" title=\"맛있는 오뚜기밥 210g\">맛있는 오뚜기밥 210g</a><!--N=a:cpl*C.title,i:5641041847,r:1-->\n",
       "</p>"
      ]
     },
     "execution_count": 15,
     "metadata": {},
     "output_type": "execute_result"
    }
   ],
   "source": [
    "title = content.select('p.cont')[0]\n",
    "title"
   ]
  },
  {
   "cell_type": "code",
   "execution_count": 16,
   "id": "f1eb8214",
   "metadata": {},
   "outputs": [
    {
     "data": {
      "text/plain": [
       "'맛있는 오뚜기밥 210g'"
      ]
     },
     "execution_count": 16,
     "metadata": {},
     "output_type": "execute_result"
    }
   ],
   "source": [
    "title.text.strip()"
   ]
  },
  {
   "cell_type": "code",
   "execution_count": 17,
   "id": "9903601b",
   "metadata": {},
   "outputs": [],
   "source": [
    "shop = [] # or list()\n",
    "for content in contents:\n",
    "    #rank = content.select('div.best_rnk > em')[0]\n",
    "    #print(rank.text.strip(),title.text.strip())\n",
    "    #shop.append([rank.text.strip(),title.text.strip()])\n",
    "    title = content.select('p.cont')[0]\n",
    "    #print(title.text.strip())\n",
    "    shop.append([title.text.strip()])"
   ]
  },
  {
   "cell_type": "code",
   "execution_count": 18,
   "id": "92789e5e",
   "metadata": {},
   "outputs": [],
   "source": [
    "#shop"
   ]
  },
  {
   "cell_type": "code",
   "execution_count": 19,
   "id": "2849e8b3",
   "metadata": {},
   "outputs": [],
   "source": [
    "import pandas as pd"
   ]
  },
  {
   "cell_type": "code",
   "execution_count": 20,
   "id": "9b17017f",
   "metadata": {},
   "outputs": [
    {
     "data": {
      "text/html": [
       "<div>\n",
       "<style scoped>\n",
       "    .dataframe tbody tr th:only-of-type {\n",
       "        vertical-align: middle;\n",
       "    }\n",
       "\n",
       "    .dataframe tbody tr th {\n",
       "        vertical-align: top;\n",
       "    }\n",
       "\n",
       "    .dataframe thead th {\n",
       "        text-align: right;\n",
       "    }\n",
       "</style>\n",
       "<table border=\"1\" class=\"dataframe\">\n",
       "  <thead>\n",
       "    <tr style=\"text-align: right;\">\n",
       "      <th></th>\n",
       "      <th>Naver shopping</th>\n",
       "    </tr>\n",
       "  </thead>\n",
       "  <tbody>\n",
       "    <tr>\n",
       "      <th>0</th>\n",
       "      <td>맛있는 오뚜기밥 210g</td>\n",
       "    </tr>\n",
       "    <tr>\n",
       "      <th>1</th>\n",
       "      <td>후디스 하이뮨 프로틴 밸런스 304g</td>\n",
       "    </tr>\n",
       "    <tr>\n",
       "      <th>2</th>\n",
       "      <td>농심 신라면 120g</td>\n",
       "    </tr>\n",
       "    <tr>\n",
       "      <th>3</th>\n",
       "      <td>오늘의바디 에이치프로틴 WPI 초코맛 1000g</td>\n",
       "    </tr>\n",
       "    <tr>\n",
       "      <th>4</th>\n",
       "      <td>CJ제일제당 햇반 210g</td>\n",
       "    </tr>\n",
       "    <tr>\n",
       "      <th>...</th>\n",
       "      <td>...</td>\n",
       "    </tr>\n",
       "    <tr>\n",
       "      <th>95</th>\n",
       "      <td>온궁민건강프로젝트 탱기 피쉬콜라겐펩타이...</td>\n",
       "    </tr>\n",
       "    <tr>\n",
       "      <th>96</th>\n",
       "      <td>풍광수토 신동진쌀 20kg</td>\n",
       "    </tr>\n",
       "    <tr>\n",
       "      <th>97</th>\n",
       "      <td>매일유업 블루다이아몬드 아몬드브리즈 오리...</td>\n",
       "    </tr>\n",
       "    <tr>\n",
       "      <th>98</th>\n",
       "      <td>나투를리 식물성 유기농 비건 스프레더블 버...</td>\n",
       "    </tr>\n",
       "    <tr>\n",
       "      <th>99</th>\n",
       "      <td>동송농업협동조합 철원오대쌀 10kg</td>\n",
       "    </tr>\n",
       "  </tbody>\n",
       "</table>\n",
       "<p>100 rows × 1 columns</p>\n",
       "</div>"
      ],
      "text/plain": [
       "                Naver shopping\n",
       "0                맛있는 오뚜기밥 210g\n",
       "1         후디스 하이뮨 프로틴 밸런스 304g\n",
       "2                  농심 신라면 120g\n",
       "3   오늘의바디 에이치프로틴 WPI 초코맛 1000g\n",
       "4               CJ제일제당 햇반 210g\n",
       "..                         ...\n",
       "95    온궁민건강프로젝트 탱기 피쉬콜라겐펩타이...\n",
       "96              풍광수토 신동진쌀 20kg\n",
       "97   매일유업 블루다이아몬드 아몬드브리즈 오리...\n",
       "98  나투를리 식물성 유기농 비건 스프레더블 버...\n",
       "99         동송농업협동조합 철원오대쌀 10kg\n",
       "\n",
       "[100 rows x 1 columns]"
      ]
     },
     "execution_count": 20,
     "metadata": {},
     "output_type": "execute_result"
    }
   ],
   "source": [
    "pd_data = pd.DataFrame(shop, columns=['Naver shopping'])\n",
    "pd_data"
   ]
  },
  {
   "cell_type": "code",
   "execution_count": 21,
   "id": "ae3f0fc7",
   "metadata": {},
   "outputs": [],
   "source": [
    "# pd_data.to_excel('./saves/naver_shopping_top100_scraping.xls')\n",
    "# 저장"
   ]
  }
 ],
 "metadata": {
  "kernelspec": {
   "display_name": "Python 3",
   "language": "python",
   "name": "python3"
  },
  "language_info": {
   "codemirror_mode": {
    "name": "ipython",
    "version": 3
   },
   "file_extension": ".py",
   "mimetype": "text/x-python",
   "name": "python",
   "nbconvert_exporter": "python",
   "pygments_lexer": "ipython3",
   "version": "3.6.4"
  }
 },
 "nbformat": 4,
 "nbformat_minor": 5
}
